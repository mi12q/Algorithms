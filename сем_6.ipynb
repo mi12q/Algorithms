{
 "cells": [
  {
   "cell_type": "code",
   "execution_count": 1,
   "id": "abb0ca44-955d-4752-9ce6-5a3707f707d6",
   "metadata": {},
   "outputs": [],
   "source": [
    "import numpy as np\n",
    "import math"
   ]
  },
  {
   "cell_type": "markdown",
   "id": "1f8f182f-e526-4d3c-b9e0-3f433ec5890a",
   "metadata": {},
   "source": [
    "### Динамическое программирование"
   ]
  },
  {
   "cell_type": "markdown",
   "id": "3ebb43e0-1608-4af0-82c2-5e438cc4133a",
   "metadata": {},
   "source": [
    "### 1. Задача о рюкзаке"
   ]
  },
  {
   "cell_type": "markdown",
   "id": "fe3c2073-26cf-4e6a-82b9-4f374b727ef9",
   "metadata": {},
   "source": [
    "Представьте что вы воришка пробравшийся в\n",
    "музыкальный магазин и у вас есть рюкзак\n",
    "способный унести 4 килограмма.\n",
    "На выбор есть 3 предмета:\n",
    "* Гитара (1 кг, 1500 долларов),\n",
    "*  Tруба (3 кг, 3000 долларов),\n",
    "*   Аккордеон (3,5 кг, 3000 долларов).\n",
    "* Какие предметы украсть выгоднее? Ход решения:\n",
    "* Строка гитара. Пытаемся уложить гитару в\n",
    "рюкзак. Если ёмкость позволяет кладём\n",
    "гитару. Потом укладываем Аккордеон, если Аккордеон не влез, поэтому берём самое\n",
    "выгодное предыдущее решение. Теперь проделаем тот же алгоритм для трубы."
   ]
  },
  {
   "cell_type": "code",
   "execution_count": 7,
   "id": "bc63cbbb-b8d1-4eb7-932a-148ae3ba692a",
   "metadata": {},
   "outputs": [
    {
     "name": "stdout",
     "output_type": "stream",
     "text": [
      "Максимум который можно унести: $3500\n"
     ]
    }
   ],
   "source": [
    "def backpack(weights, values, capacity):\n",
    "    n = len(values)\n",
    "    # Создаем матрицу для представления таблицы решений задачи о рюкзаке\n",
    "    K = [[0 for _ in range(capacity + 1)] for _ in range(n + 1)]\n",
    "    \n",
    "    for i in range(n + 1):\n",
    "        # Заполняем массив K\n",
    "        for w in range(capacity + 1):\n",
    "            if i == 0 or w == 0:\n",
    "                K[i][w] = 0\n",
    "            elif weights[i-1] <= w:\n",
    "                # Максимальное значение, это максимум из двух случаев:\n",
    "                # 1. Предмет не включен.\n",
    "                # 2. Предмет включен.\n",
    "                K[i][w] = max(K[i-1][w], values[i-1] + K[i-1][w-weights[i-1]]) \n",
    "            else:\n",
    "                K[i][w] = K[i-1][w] # Если вес предмета больше capacity, предмет не включается.\n",
    "\n",
    "    return K[n][capacity]\n",
    "\n",
    "weights = [1*10, 3*10, int(3.5*10)]  \n",
    "values = [1500, 2000, 3000]\n",
    "capacity = 40\n",
    "\n",
    "max_value = backpack(weights, values, capacity)\n",
    "print(f\"Максимум который можно унести: ${max_value}\")"
   ]
  },
  {
   "cell_type": "markdown",
   "id": "fa616667-cff9-4793-9e7f-3db774ee54a3",
   "metadata": {},
   "source": [
    "### 2. Числа Фибоначчи"
   ]
  },
  {
   "cell_type": "markdown",
   "id": "372eb7d8-e131-41fd-8d4e-f25764857dea",
   "metadata": {},
   "source": [
    "0, 1, 1, 2, 3, 5, 8, 13, 21, 34, 55, 89, 144, 233, 377, 610, 987, 1597, 2584, 4181, 6765, 10946, 17711, …"
   ]
  },
  {
   "cell_type": "markdown",
   "id": "1dbc082a-827c-48cb-81f7-de899957c167",
   "metadata": {},
   "source": [
    "Введем переменную dp, в которой будем хранить массив.\n",
    "При попытке рассчитать новое значение мы будем проверять dp,\n",
    "на возможное наличие значения в нем.\n",
    "Только если его не найдем там, будем считать."
   ]
  },
  {
   "cell_type": "code",
   "execution_count": 32,
   "id": "f2eef2a1-533b-4197-874a-8c30c6e7b5ac",
   "metadata": {},
   "outputs": [],
   "source": [
    "def fib(n, dp=None):\n",
    "    # Инициализация списка dp достаточной длины\n",
    "    if dp is None:\n",
    "        dp = [0] * (n + 1)\n",
    "        \n",
    "    if n == 0:\n",
    "        return 0\n",
    "    if n <= 2:\n",
    "        dp[n] = 1\n",
    "        return dp[n]\n",
    "\n",
    "    # Проверка, вычислено ли значение ранее\n",
    "    if dp[n] != 0:\n",
    "        return dp[n]\n",
    "\n",
    "    # Рекурсивное вычисление значений с мемоизацией\n",
    "    dp[n] = fib(n-1, dp) + fib(n-2, dp)\n",
    "\n",
    "    return dp[n]"
   ]
  },
  {
   "cell_type": "code",
   "execution_count": 31,
   "id": "24ea402c-970f-434a-8d8c-b4a9c9fe5277",
   "metadata": {},
   "outputs": [
    {
     "name": "stdout",
     "output_type": "stream",
     "text": [
      "5\n",
      "55\n",
      "610\n"
     ]
    }
   ],
   "source": [
    "print(fib(5))\n",
    "print(fib(10))\n",
    "print(fib(15))"
   ]
  },
  {
   "cell_type": "markdown",
   "id": "15e54539-474b-4e8e-8495-57396d6b8266",
   "metadata": {},
   "source": [
    "### 3. Задача про кузнечика"
   ]
  },
  {
   "cell_type": "markdown",
   "id": "4ad587aa-46fc-4532-a50f-f689ce148cbc",
   "metadata": {},
   "source": [
    "Дана прямая, поделенные на отрезки. В самом\n",
    "начале этой прямой сидит кузнечик, который\n",
    "может прыгать только на один или два\n",
    "отрезка вперед. Необходимо понять, сколько\n",
    "есть способов допрыгать до n-го отрезка."
   ]
  },
  {
   "cell_type": "markdown",
   "id": "ed0e3ad0-eeed-42bf-814e-df89fbda7ea0",
   "metadata": {},
   "source": [
    "Допустим кузнечик может прыгать на K шагов\n",
    "Hа последний столбик кузнечик может прыгнуть с n-k\n",
    "столбика: dp[n] = dp[n-1] + dp[n-2] + … + dp[n-k]"
   ]
  },
  {
   "cell_type": "code",
   "execution_count": 34,
   "id": "e6939e99-40aa-43b4-ac4b-9d11e829da0f",
   "metadata": {},
   "outputs": [],
   "source": [
    "def jump(n,k):\n",
    "    a = [0] * (n+1)\n",
    "    a[0] = 1\n",
    "    for i in range(1, n+1):\n",
    "        r = k\n",
    "        if i < r:\n",
    "            r = 1\n",
    "        a[i] = 0\n",
    "        for j in range(1, r+1):\n",
    "            a[i] += a[i-j]\n",
    "    return a[n]"
   ]
  },
  {
   "cell_type": "code",
   "execution_count": 35,
   "id": "a9915303-6a9c-45ed-90f2-05d3706bbc4f",
   "metadata": {},
   "outputs": [
    {
     "name": "stdout",
     "output_type": "stream",
     "text": [
      "5\n"
     ]
    }
   ],
   "source": [
    "print(jump(4, 2))"
   ]
  },
  {
   "cell_type": "code",
   "execution_count": 36,
   "id": "48367a63-bd20-429a-b14c-cbd5a34e07d3",
   "metadata": {},
   "outputs": [
    {
     "name": "stdout",
     "output_type": "stream",
     "text": [
      "3\n"
     ]
    }
   ],
   "source": [
    "print(jump(3, 2))"
   ]
  },
  {
   "cell_type": "markdown",
   "id": "7723f7c0-a219-40be-b78e-289e7e4058f1",
   "metadata": {},
   "source": [
    "### 4. Кузнечик и монетки"
   ]
  },
  {
   "cell_type": "markdown",
   "id": "90b2b21d-bc70-4134-b636-093ba49e1c9d",
   "metadata": {},
   "source": [
    "В условия добавляются монетки. На каждой кочке кузнечик может взять монетки, а может потерять.\n",
    "Теперь ему необходимо добраться до последней кочки собрав максимальное количество монеток"
   ]
  },
  {
   "cell_type": "markdown",
   "id": "74a56fe7-fb11-463b-9531-562cbdd77856",
   "metadata": {},
   "source": [
    "Заводим новый массив jumps, куда мы будем писать наши прыжки\n",
    "На каждой итерации, в цикле прыжков, мы должны проверять\n",
    "количество монеток на данном столбике и если оно равно ранее\n",
    "рассчитанному значению - записываем в массив прыжков:\n",
    "dp[i] == dp[i - j] + coins[i - 1].\n",
    "На каждой итерации по i ищем максимальную сумму."
   ]
  },
  {
   "cell_type": "code",
   "execution_count": 47,
   "id": "a5b1a046-d133-46b2-a3a9-abdaeb922d6b",
   "metadata": {},
   "outputs": [],
   "source": [
    "def max_coins(n,k,coins):\n",
    "    dp = [0] * (n+1)\n",
    "    for i in range(1, n+1):\n",
    "        for j in range(1, min(k,i)+1):\n",
    "            dp[i] = max(dp[i],dp[i-j] + coins[i-1])\n",
    "    max_coins_col = dp[n]\n",
    "\n",
    "    jumps = []\n",
    "    i = n\n",
    "    while i > 0:\n",
    "        for j in range(min(k,i),0,-1):\n",
    "            if dp[i] == dp[i-j] + coins[i-1]:\n",
    "                jumps.append(i)\n",
    "                i -= j\n",
    "                break\n",
    "                \n",
    "    jumps.reverse()\n",
    "    return max_coins_col, len(jumps),jumps"
   ]
  },
  {
   "cell_type": "code",
   "execution_count": 48,
   "id": "76961bbe-65c9-4b85-93b6-9d206d239e9d",
   "metadata": {},
   "outputs": [
    {
     "name": "stdout",
     "output_type": "stream",
     "text": [
      "Максимальное количество монет: 28\n",
      "Количество прыжков: 4\n",
      "Последовательность прыжков: [2, 3, 4, 6]\n"
     ]
    }
   ],
   "source": [
    "n = 6\n",
    "k = 2\n",
    "coins = [0, 4, 15, 9, -7, 0]\n",
    "result = max_coins(n, k, coins)\n",
    "print(\"Максимальное количество монет:\",\n",
    "result[0])\n",
    "print(\"Количество прыжков:\", result[1])\n",
    "print(\"Последовательность прыжков:\", result[2])"
   ]
  },
  {
   "cell_type": "markdown",
   "id": "a153959a-0f91-4c6f-99a5-3117ce3d28ca",
   "metadata": {},
   "source": [
    "### 5. Черепашка и монетки"
   ]
  },
  {
   "cell_type": "markdown",
   "id": "41cf771b-dacf-4247-9dbb-737e4add0241",
   "metadata": {},
   "source": [
    "Теперь будем собирать монетки в\n",
    "двухмерном пространстве. Наша черепашка может двигать только\n",
    "вправо и вниз. Нужно собрать как можно больше монет.\n",
    "Движение по первым горизонтали и вертикали:\n",
    "* dp[0][k] = dp[0][k - 1] + COINS[0][k]\n",
    "* dp[k][0] = dp[k - 1][0] + COINS[k][0]\n",
    "* dp[0][k] = dp[0][k - 1] + COINS[0][k]\n",
    "* dp[k][0] = dp[k - 1][0] + COINS[k][0]\n",
    "* dp[i][j] = max(dp[i - 1][j], dp[i][j - 1]) + COINS[i][j]"
   ]
  },
  {
   "cell_type": "code",
   "execution_count": 59,
   "id": "72a7893a-fde9-40b7-943c-9cb37523ed1e",
   "metadata": {},
   "outputs": [
    {
     "name": "stdout",
     "output_type": "stream",
     "text": [
      "[-1, 0, 0, 0, 0, 0]\n",
      "[1, 1, 1, 1, 1, 1]\n",
      "[1, 1, 0, 0, 0, 0]\n",
      "[1, 0, 1, 0, 0, 1]\n",
      "[(0, 0), (2, 1), (2, 2), (2, 3), (2, 4)]\n",
      "['RIGHT', 'DOWN', 'DOWN', 'RIGHT', 'RIGHT', 'RIGHT', 'RIGHT', 'DOWN']\n"
     ]
    }
   ],
   "source": [
    "M = 6; N = 4\n",
    "COINS = [\n",
    "    [0, 1, 1, 1, 1, 1],\n",
    "    [0, 0, 0, 0, 0, 1],\n",
    "    [0, 40, 70, 0, 0, 1],\n",
    "    [100, 0, 0, 0, 0, 1]\n",
    "]\n",
    "dp = [[None] * M for i in range(N)]\n",
    "prev = [[None] * M for i in range(N)]\n",
    "for i in range(N):\n",
    "    for j in range(M):\n",
    "        if i == 0 and j == 0:\n",
    "            dp[0][0] = COINS[0][0]\n",
    "            prev[0][0] = -1 # предыдущей клетки нет\n",
    "        elif i == 0:\n",
    "            dp[0][j] = dp[0][j - 1] + COINS[0][j]\n",
    "            prev[0][j] = 0 # слева пришли\n",
    "        elif j == 0:\n",
    "            dp[i][0] = dp[i - 1][0] + COINS[i][0]\n",
    "            prev[i][0] = 1 # сверху пришли\n",
    "        else:\n",
    "            dp[i][j] = max(dp[i - 1][j], dp[i][j - 1]) + COINS[i][j]\n",
    "            if dp[i - 1][j] > dp[i][j - 1]:\n",
    "                prev[i][j] = 1\n",
    "            else:\n",
    "                prev[i][j] = 0\n",
    "    print(prev[i])\n",
    "\n",
    "i, j = N - 1, M - 1\n",
    "answer = []\n",
    "answer_directions = []\n",
    "while i > 0 or j > 0:\n",
    "    if i != 0 and (j == 0 or dp[i - 1][j] > dp[i][j - 1]):\n",
    "        i -= 1\n",
    "        answer_directions.append('DOWN')\n",
    "    else:\n",
    "        j -= 1\n",
    "        answer_directions.append('RIGHT')\n",
    "        answer.append((i, j))\n",
    "print(answer[::-1]) # reverse\n",
    "print(answer_directions[::-1]) # reverse"
   ]
  },
  {
   "cell_type": "code",
   "execution_count": null,
   "id": "9d1e5966-2fc5-4582-87ff-1c578d2a6c4a",
   "metadata": {},
   "outputs": [],
   "source": []
  }
 ],
 "metadata": {
  "kernelspec": {
   "display_name": "Python 3 (ipykernel)",
   "language": "python",
   "name": "python3"
  },
  "language_info": {
   "codemirror_mode": {
    "name": "ipython",
    "version": 3
   },
   "file_extension": ".py",
   "mimetype": "text/x-python",
   "name": "python",
   "nbconvert_exporter": "python",
   "pygments_lexer": "ipython3",
   "version": "3.10.12"
  }
 },
 "nbformat": 4,
 "nbformat_minor": 5
}
