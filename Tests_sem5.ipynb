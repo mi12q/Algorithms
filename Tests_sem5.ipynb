{
 "cells": [
  {
   "cell_type": "code",
   "execution_count": 119,
   "id": "f6f4a1bf-3757-4fe8-b307-3cdd808b0d1a",
   "metadata": {},
   "outputs": [],
   "source": [
    "import unittest\n",
    "import numpy as np\n",
    "%run сем_5.ipynb "
   ]
  },
  {
   "cell_type": "code",
   "execution_count": 120,
   "id": "1f94ae11-a536-44fb-8dc4-ef8d413587f1",
   "metadata": {},
   "outputs": [],
   "source": [
    "class TestIsSymmetricDFS(unittest.TestCase):\n",
    "    def test_1(self):\n",
    "        root = TreeNode(1, TreeNode(2, TreeNode(3), TreeNode(4)), TreeNode(2, TreeNode(4), TreeNode(3)))\n",
    "        self.assertTrue(isSymmetricBFS(root))\n",
    "        \n",
    "    def test_2(self):\n",
    "        root = TreeNode(1, TreeNode(2, TreeNode(3), TreeNode(4)), TreeNode(5, TreeNode(9), TreeNode(1)))\n",
    "        self.assertFalse(isSymmetricBFS(root))\n",
    "        \n",
    "    def test_3(self):\n",
    "        root = TreeNode(3, TreeNode(9, TreeNode(6), TreeNode(6)), TreeNode(9, TreeNode(6), TreeNode(6)))\n",
    "        self.assertTrue(isSymmetricBFS(root))\n",
    "    \n",
    "    def test_4(self):\n",
    "        root = TreeNode(1, TreeNode(2), TreeNode(3))\n",
    "        self.assertFalse(isSymmetricBFS(root))"
   ]
  },
  {
   "cell_type": "code",
   "execution_count": 121,
   "id": "1dc74509-0d0a-4188-a8ec-cd237da31349",
   "metadata": {},
   "outputs": [],
   "source": [
    "class TestMinDepth(unittest.TestCase):\n",
    "    def test_1(self):\n",
    "        root = TreeNode(1, TreeNode(2, TreeNode(4), TreeNode(5)), TreeNode(3, TreeNode(6), TreeNode(7)))\n",
    "        self.assertEqual(minDepth(root), 3)\n",
    "    def test_2(self):\n",
    "        root = TreeNode(1, TreeNode(2, TreeNode(3)))\n",
    "        self.assertEqual(minDepth(root), 3)\n",
    "\n",
    "    def test_3(self):\n",
    "        root = TreeNode(1, right=TreeNode(2, right=TreeNode(3)))\n",
    "        self.assertEqual(minDepth(root), 3)\n",
    "    \n",
    "    def test_4(self):\n",
    "        root = TreeNode(1)\n",
    "        self.assertEqual(minDepth(root), 1)\n",
    "    \n",
    "    def test_4(self):\n",
    "        self.assertEqual(minDepth(None), 0)"
   ]
  },
  {
   "cell_type": "raw",
   "id": "84a8f537-ea60-48c8-a071-2371bff62d82",
   "metadata": {},
   "source": [
    "test_1:\n",
    "        # \n",
    "        #       1\n",
    "        #      / \n",
    "        #     2   3\n",
    "        #    /  / \n",
    "        #   4  5 6  7\n",
    "test_2:\n",
    "        #       1\n",
    "        #      /\n",
    "        #     2   \n",
    "        #    /\n",
    "        #   3 \n",
    "test_3:\n",
    "        # \n",
    "        #   1\n",
    "        #    \n",
    "        #     2\n",
    "        #      \n",
    "        #       3"
   ]
  },
  {
   "cell_type": "code",
   "execution_count": 122,
   "id": "3c1f183b-0edd-421a-bb33-b0870bdde8e5",
   "metadata": {},
   "outputs": [],
   "source": [
    "class TestSameTree(unittest.TestCase):\n",
    "    def test_1(self):\n",
    "        arr1 = [3,8,8,9,6,6,9,6]\n",
    "        arr2 = [3,8,8,9,6,6,9,6]\n",
    "        bt1 = buildTree(arr1,0)\n",
    "        bt2 = buildTree(arr2,0)\n",
    "        self.assertTrue(isSameTree(bt1,bt2))\n",
    "        \n",
    "    def test_2(self):\n",
    "        arr1 = [1,2,3]\n",
    "        arr2 = [5,6,7]\n",
    "        bt1 = buildTree(arr1,0)\n",
    "        bt2 = buildTree(arr2,0)\n",
    "        self.assertFalse(isSameTree(bt1,bt2))"
   ]
  },
  {
   "cell_type": "code",
   "execution_count": 123,
   "id": "ed1afc4e-a04b-4814-90c7-482f68cecfe6",
   "metadata": {},
   "outputs": [],
   "source": [
    "class TestUniqueBST1(unittest.TestCase):\n",
    "    def test_1(self):\n",
    "        n = 1\n",
    "        res = 1\n",
    "        self.assertEqual(Catalan_UniqueBST(n),res)\n",
    "        self.assertEqual(Catalan_UniqueBST(n),res)\n",
    "    def test_2(self):\n",
    "        n = 3\n",
    "        res = 5\n",
    "        self.assertEqual(Catalan_UniqueBST(n),res)\n",
    "\n",
    "    def test_3(self):\n",
    "        n = 9\n",
    "        res = 4862\n",
    "        self.assertEqual(Catalan_UniqueBST(n),res)\n",
    "        \n",
    "    def test_4(self):\n",
    "        n = 5\n",
    "        res = 42\n",
    "        self.assertEqual(Catalan_UniqueBST(n),res)"
   ]
  },
  {
   "cell_type": "code",
   "execution_count": 124,
   "id": "0a3245bb-1360-4160-b1c9-fbfb5be81397",
   "metadata": {},
   "outputs": [],
   "source": [
    "class TestUniqueBST2(unittest.TestCase):\n",
    "    def test_1(self):\n",
    "        n = 1\n",
    "        res = 1\n",
    "        self.assertEqual(recursive_countUniqueBST(n),res)\n",
    "        self.assertEqual(recursive_countUniqueBST(n),res)\n",
    "        \n",
    "    def test_2(self):\n",
    "        n = 3\n",
    "        res = 5\n",
    "        self.assertEqual(recursive_countUniqueBST(n),res)\n",
    "\n",
    "    def test_3(self):\n",
    "        n = 9\n",
    "        res = 4862\n",
    "        self.assertEqual(recursive_countUniqueBST(n),res)\n",
    "        \n",
    "    def test_4(self):\n",
    "        n = 5\n",
    "        res = 42\n",
    "        self.assertEqual(recursive_countUniqueBST(n),res)"
   ]
  },
  {
   "cell_type": "code",
   "execution_count": 125,
   "id": "242473a6-a843-468b-9b06-529f2cba67d1",
   "metadata": {},
   "outputs": [
    {
     "name": "stderr",
     "output_type": "stream",
     "text": [
      "........................\n",
      "----------------------------------------------------------------------\n",
      "Ran 24 tests in 0.019s\n",
      "\n",
      "OK\n"
     ]
    }
   ],
   "source": [
    "if __name__ == '__main__':\n",
    "    unittest.main(argv=['first-arg-is-ignored'], exit=False)"
   ]
  },
  {
   "cell_type": "code",
   "execution_count": null,
   "id": "299a3bbe-33ed-49ae-8b72-92fc8dc6a0a8",
   "metadata": {},
   "outputs": [],
   "source": []
  }
 ],
 "metadata": {
  "kernelspec": {
   "display_name": "Python 3 (ipykernel)",
   "language": "python",
   "name": "python3"
  },
  "language_info": {
   "codemirror_mode": {
    "name": "ipython",
    "version": 3
   },
   "file_extension": ".py",
   "mimetype": "text/x-python",
   "name": "python",
   "nbconvert_exporter": "python",
   "pygments_lexer": "ipython3",
   "version": "3.10.12"
  }
 },
 "nbformat": 4,
 "nbformat_minor": 5
}
