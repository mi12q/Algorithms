{
 "cells": [
  {
   "cell_type": "code",
   "execution_count": 50,
   "id": "fb960b60-849f-4689-ac89-7c5e64bf9161",
   "metadata": {},
   "outputs": [],
   "source": [
    "import networkx as nx\n",
    "import matplotlib.pyplot as plt"
   ]
  },
  {
   "cell_type": "markdown",
   "id": "09a46218-cfca-4e65-9f85-b374e8b9445a",
   "metadata": {},
   "source": [
    "## Графы"
   ]
  },
  {
   "cell_type": "markdown",
   "id": "0be94a66-13dc-4b10-bf8d-d22a7a68cf86",
   "metadata": {},
   "source": [
    "### 1. Поиск компонент связности"
   ]
  },
  {
   "cell_type": "markdown",
   "id": "35ad45fd-4683-460e-b5fc-7066407ea022",
   "metadata": {},
   "source": [
    "* Необходимо последовательно запускать\n",
    "dfs от каждой не посещенной вершины.\n",
    "* Заводим массив visited для отслеживания\n",
    "посещения вершин\n",
    "* Если после запуска dfs в графе есть\n",
    "вершины, которых нет в массиве visited,\n",
    "то запускаем от любой такой вершины\n",
    "обход в глубину\n",
    "* После каждого запуска dfs\n",
    "инкрементируем счетчик количества\n",
    "компонент связности."
   ]
  },
  {
   "cell_type": "code",
   "execution_count": 51,
   "id": "a81ddac5-e5bf-4637-bbc7-f6254f87ff8e",
   "metadata": {},
   "outputs": [],
   "source": [
    "def find_connected_components(graph):\n",
    "    visited = {key: False for key in graph}  # Словарь для отслеживания посещенных вершин\n",
    "    connected_components = []  # Список для хранения связных компонентов\n",
    "\n",
    "    for i in graph:\n",
    "        if not visited[i]:  \n",
    "            component = []  # Список для хранения текущей компоненты\n",
    "            dfs(graph, i, visited, component)  # Выполнение поиска в глубину\n",
    "            connected_components.append(component)  # Добавление компоненты в список\n",
    "    return connected_components\n",
    "\n",
    "def dfs(graph, v, visited, component):\n",
    "    visited[v] = True  # Отметка вершины как посещенной\n",
    "    component.append(v)  \n",
    "    # Рекурсивный вызов функции для всех соседей текущей вершины\n",
    "    for i in graph[v]:\n",
    "        if not visited[i]:\n",
    "            dfs(graph, i, visited, component)"
   ]
  },
  {
   "cell_type": "code",
   "execution_count": 52,
   "id": "ea0389a5-eebe-442f-9602-3370dfe3e6a8",
   "metadata": {},
   "outputs": [
    {
     "name": "stdout",
     "output_type": "stream",
     "text": [
      "[[1, 2, 3], [4, 6, 5, 7], [8, 11, 9, 10]]\n"
     ]
    }
   ],
   "source": [
    "graph = {\n",
    "    1: [2, 3],\n",
    "    2: [1, 3],\n",
    "    3: [1, 2],\n",
    "    4: [6, 7],\n",
    "    5: [6, 7],\n",
    "    6: [4, 5, 7],\n",
    "    7: [4, 5, 6],\n",
    "    8: [11],\n",
    "    9: [10, 11],\n",
    "    10: [9],\n",
    "    11: [8, 9]\n",
    "}\n",
    "\n",
    "connected_components = find_connected_components(graph)\n",
    "print(connected_components)"
   ]
  },
  {
   "cell_type": "markdown",
   "id": "08d9212e-5094-47d3-860a-81374c44f508",
   "metadata": {},
   "source": [
    "### 2. Раскраска графа"
   ]
  },
  {
   "cell_type": "markdown",
   "id": "1aeefce3-215c-40ca-b6a5-69731efd6f75",
   "metadata": {},
   "source": [
    "* У нас уже есть хеш мапа visited и в ней мы можем в качестве значения хранить “цвет” компоненты связности."
   ]
  },
  {
   "cell_type": "code",
   "execution_count": 53,
   "id": "433bb8c1-1308-468e-85bb-3d8bdf67a903",
   "metadata": {},
   "outputs": [],
   "source": [
    "def dfs(graph, v, visited, color):\n",
    "    visited[v] = color  # Пометить текущую вершину цветом компоненты\n",
    "    for i in graph[v]:  \n",
    "        if visited[i] == 0:  # Если вершина не посещена, рекурсивно исследовать\n",
    "            dfs(graph, i, visited, color)\n",
    "\n",
    "def find_connected_components(graph):\n",
    "    visited = {node: 0 for node in graph}  # Инициализация словаря посещенных вершин\n",
    "    color = 0  # Индекс компоненты связности\n",
    "    for node in graph:  \n",
    "        if visited[node] == 0:  # Если текущая вершина еще не посещена\n",
    "            color += 1  \n",
    "            dfs(graph, node, visited, color)  # Найти и пометить все вершины этой компоненты\n",
    "\n",
    "    return visited  "
   ]
  },
  {
   "cell_type": "code",
   "execution_count": 54,
   "id": "b0017e76-c644-4ec8-87d9-34e9fd85a0b2",
   "metadata": {},
   "outputs": [
    {
     "name": "stdout",
     "output_type": "stream",
     "text": [
      "{1: 1, 2: 1, 3: 1, 4: 2, 5: 2, 6: 2, 7: 2, 8: 3, 9: 3, 10: 3, 11: 3}\n"
     ]
    }
   ],
   "source": [
    "component_map = find_connected_components(graph)\n",
    "print(component_map)"
   ]
  },
  {
   "cell_type": "markdown",
   "id": "d241d4e1-819c-4e60-8c16-5e891e9a8537",
   "metadata": {},
   "source": [
    "### 3. Поиск цикла в графе"
   ]
  },
  {
   "cell_type": "markdown",
   "id": "45107ccd-9dd0-4e5a-9269-b4a3d50eda81",
   "metadata": {},
   "source": [
    "Дан граф в виде списка вершин. Необходимо понять, есть ли в этом графе цикл.\n",
    "* DFS: Мы используем поиск в\n",
    "глубину для обхода графа,\n",
    "начиная с каждой вершины.\n",
    "При этом помечаем вершины,\n",
    "которые уже были посещены.\n",
    "* Обнаружение обратных рёбер:\n",
    "Если в процессе DFS соседская\n",
    "вершина уже была посещена и\n",
    "при этом не является\n",
    "родительской для текущей\n",
    "вершины - в графе есть цикл.\n",
    "* Возврат результата: Если при\n",
    "обходе графа находится цикл,\n",
    "функция возвращает True,\n",
    "иначе - False."
   ]
  },
  {
   "cell_type": "code",
   "execution_count": 55,
   "id": "d20801a4-f1e9-42ac-9259-8b447a673bec",
   "metadata": {},
   "outputs": [],
   "source": [
    "def has_cycle(graph):\n",
    "    visited = set()  \n",
    "    for vertex in graph:\n",
    "        if vertex not in visited:\n",
    "            if dfs(graph, vertex, None, visited):\n",
    "                return True\n",
    "    return False\n",
    "\n",
    "def dfs(graph, vertex, parent, visited):\n",
    "    visited.add(vertex)  # Добавляем вершину в множество посещенных\n",
    "    for neighbor in graph[vertex]:\n",
    "        # Проверяем, не равен ли сосед родителю и был ли он уже посещен\n",
    "        if neighbor != parent:\n",
    "            if neighbor in visited or dfs(graph, neighbor, vertex, visited):\n",
    "                return True\n",
    "    return False"
   ]
  },
  {
   "cell_type": "code",
   "execution_count": 56,
   "id": "110c496d-ed39-4941-b17c-f1fb9a195722",
   "metadata": {},
   "outputs": [
    {
     "name": "stdout",
     "output_type": "stream",
     "text": [
      "True\n"
     ]
    }
   ],
   "source": [
    "graph = {\n",
    "    1: [2, 3],\n",
    "    2: [1, 3],\n",
    "    3: [1, 2],\n",
    "    4: [6, 7],\n",
    "    5: [6, 7],\n",
    "    6: [4, 5, 7],\n",
    "    7: [4, 5, 6],\n",
    "    8: [11],\n",
    "    9: [10, 11],\n",
    "    10: [9],\n",
    "    11: [8, 9]\n",
    "}\n",
    "\n",
    "print(has_cycle(graph))"
   ]
  },
  {
   "cell_type": "code",
   "execution_count": 57,
   "id": "44c238a0-b194-4931-97c6-c8c270a6c668",
   "metadata": {},
   "outputs": [
    {
     "name": "stdout",
     "output_type": "stream",
     "text": [
      "False\n"
     ]
    }
   ],
   "source": [
    "graph_without_cycle = {\n",
    "    1: [2],\n",
    "    2: [1, 3, 4],\n",
    "    3: [2],\n",
    "    4: [2, 5, 6],\n",
    "    5: [4],\n",
    "    6: [4]\n",
    "}\n",
    "\n",
    "print(has_cycle(graph_without_cycle)) "
   ]
  },
  {
   "cell_type": "markdown",
   "id": "9082e769-eb66-42f6-bdd0-2e042f9da265",
   "metadata": {},
   "source": [
    "### 4. Является ли граф деревом"
   ]
  },
  {
   "cell_type": "markdown",
   "id": "70b54537-3a86-4694-87ec-2080c1a2d6c6",
   "metadata": {},
   "source": [
    "* Граф не должен\n",
    "содержать циклов.\n",
    "* Должен состоять из\n",
    "одной компоненты\n",
    "связности.\n",
    "* Решаем через BFS."
   ]
  },
  {
   "cell_type": "code",
   "execution_count": 58,
   "id": "145e25f7-119b-4af9-a4af-60d172aac1a8",
   "metadata": {},
   "outputs": [],
   "source": [
    "def is_tree(graph, start):\n",
    "    visited = []\n",
    "    queue = [start]\n",
    "    parent = {start: None}  \n",
    "    while queue:\n",
    "        vertex = queue.pop(0)  # Удаление первого элемента из очереди\n",
    "        visited.append(vertex)\n",
    "        for neighbor in graph[vertex]:\n",
    "            if neighbor not in visited:\n",
    "                queue.append(neighbor)\n",
    "                parent[neighbor] = vertex\n",
    "            else:\n",
    "                # Для узлов F и A проверяем, не равен ли текущий узел родителю соседа\n",
    "                if parent[vertex] != neighbor:\n",
    "                    return False\n",
    "    return len(visited) == len(graph)"
   ]
  },
  {
   "cell_type": "code",
   "execution_count": 59,
   "id": "cc18541f-7b4e-416d-8a59-040798c3e9c9",
   "metadata": {},
   "outputs": [
    {
     "name": "stdout",
     "output_type": "stream",
     "text": [
      "True\n",
      "False\n"
     ]
    }
   ],
   "source": [
    "graph = {\n",
    "    1: [2, 3],\n",
    "    2: [1, 4],\n",
    "    3: [1],\n",
    "    4: [2]\n",
    "}\n",
    "\n",
    "graph_non_tree = {\n",
    "    1: [2, 3],\n",
    "    2: [1, 4, 3],\n",
    "    3: [1, 2],\n",
    "    4: [2]\n",
    "}\n",
    "\n",
    "start = 1\n",
    "print(is_tree(graph, start))  \n",
    "print(is_tree(graph_non_tree, start))  "
   ]
  },
  {
   "cell_type": "markdown",
   "id": "27d0b17e-334b-4700-ba3a-062976b8ebda",
   "metadata": {},
   "source": [
    "### 5. Алгоритм Дейкстры"
   ]
  },
  {
   "cell_type": "markdown",
   "id": "2d8c51e5-2dbb-4b6a-9097-612a2cb49b16",
   "metadata": {},
   "source": [
    "Необходимо найти кратчайший путь из заданной точки.\n",
    "* Каждой вершине проставляем\n",
    "значения - минимальный вес\n",
    "ребер, которые надо пройти,\n",
    "чтобы попасть в нее из\n",
    "стартовой.\n",
    "* Пока не начали проход по графу\n",
    "эти значения имеют\n",
    "максимально возможные\n",
    "значения.\n",
    "* Стартовая вершина имеет\n",
    "значение 0.\n",
    "* Наша задача при проходе\n",
    "обновлять эти значения.\n",
    "* Добавим вспомогательную\n",
    "функцию поиска вершины с\n",
    "наименьшим весом\n",
    "vertexWithMinWeight\n",
    "* Будем запускать ее пока есть\n",
    "непосещенные вершины"
   ]
  },
  {
   "cell_type": "code",
   "execution_count": 60,
   "id": "fc2ce2c9-23d0-4e32-b8be-92e5c547c26d",
   "metadata": {},
   "outputs": [],
   "source": [
    "def vertexWithMinWeight(dist, visited):\n",
    "    index = None\n",
    "    dist_min = float('inf')\n",
    "    for vertex in dist:\n",
    "        if dist[vertex] < dist_min and not visited[vertex]:\n",
    "            dist_min = dist[vertex]\n",
    "            index = vertex\n",
    "    return index"
   ]
  },
  {
   "cell_type": "code",
   "execution_count": 61,
   "id": "946fd363-7a89-48a8-bd6f-31b5b52f4faf",
   "metadata": {},
   "outputs": [],
   "source": [
    "def dijkstra(graph, start):\n",
    "    INF = float('inf')\n",
    "    # Создаем словарь для отслеживания посещенных вершин\n",
    "    visited = {vertex: False for vertex in graph}\n",
    "    # Создаем словарь для хранения расстояний до каждой вершины в графе\n",
    "    dist = {vertex: INF for vertex in graph}\n",
    "    # Расстояние до начальной вершины равно 0\n",
    "    dist[start] = 0\n",
    "\n",
    "    while not all(visited.values()):\n",
    "        # Находим вершину с минимальным расстоянием\n",
    "        u = vertexWithMinWeight(dist, visited)\n",
    "        if u is None:  # Все доступные вершины были посещены\n",
    "            break\n",
    "        # Перебираем всех соседей вершины u\n",
    "        for v, weight in graph[u].items():\n",
    "            # Если вершина v не посещена, обновляем расстояние до v\n",
    "            if not visited[v]:\n",
    "                dist[v] = min(dist[v], dist[u] + weight)\n",
    "        # Помечаем вершину u как посещенную\n",
    "        visited[u] = True\n",
    "    # Возвращаем словарь с расстояниями до всех вершин от начальной вершины\n",
    "    return dist"
   ]
  },
  {
   "cell_type": "code",
   "execution_count": 62,
   "id": "3b5c2cc3-40ce-4206-b3a4-2917edf5ad24",
   "metadata": {},
   "outputs": [
    {
     "name": "stdout",
     "output_type": "stream",
     "text": [
      "{'A': 0, 'B': 1, 'C': 3, 'D': 4}\n"
     ]
    }
   ],
   "source": [
    "graph = {\n",
    "    'A': {'B': 1, 'C': 4},\n",
    "    'B': {'A': 1, 'C': 2, 'D': 5},\n",
    "    'C': {'A': 4, 'B': 2, 'D': 1},\n",
    "    'D': {'B': 5, 'C': 1}\n",
    "}\n",
    "\n",
    "start_vertex = 'A'\n",
    "distances = dijkstra(graph, start_vertex)\n",
    "print(distances)"
   ]
  },
  {
   "cell_type": "markdown",
   "id": "7371a109-f4e5-4554-a420-c5ff571cfad7",
   "metadata": {},
   "source": [
    "### Визуализация"
   ]
  },
  {
   "cell_type": "code",
   "execution_count": 63,
   "id": "ace4e8c8-76c6-47c1-aa76-e76a817ec05a",
   "metadata": {},
   "outputs": [
    {
     "data": {
      "image/png": "[encoded data removed]",
      "text/plain": [
       "<Figure size 640x480 with 1 Axes>"
      ]
     },
     "metadata": {},
     "output_type": "display_data"
    }
   ],
   "source": [
    "G = nx.DiGraph()\n",
    "\n",
    "G.add_edge('A', 'B', weight=1)\n",
    "G.add_edge('A', 'C', weight=4)\n",
    "G.add_edge('B', 'C', weight=2)\n",
    "G.add_edge('B', 'D', weight=5)\n",
    "G.add_edge('C', 'D', weight=1)\n",
    "G.add_edge('B', 'A', weight=1)  \n",
    "G.add_edge('C', 'A', weight=4)  \n",
    "G.add_edge('D', 'B', weight=5)  \n",
    "G.add_edge('D', 'C', weight=1)  \n",
    "\n",
    "pos = nx.spring_layout(G)\n",
    "nx.draw_networkx_nodes(G, pos, node_size=700)\n",
    "nx.draw_networkx_edges(G, pos)\n",
    "nx.draw_networkx_labels(G, pos, font_size=20, font_family='sans-serif')\n",
    "labels = nx.get_edge_attributes(G, 'weight')\n",
    "nx.draw_networkx_edge_labels(G, pos, edge_labels=labels)\n",
    "\n",
    "plt.axis('off')  \n",
    "plt.show()  "
   ]
  },
  {
   "cell_type": "code",
   "execution_count": null,
   "id": "8478ff96-b695-4a54-b0c6-cc5cf50ef388",
   "metadata": {},
   "outputs": [],
   "source": []
  }
 ],
 "metadata": {
  "kernelspec": {
   "display_name": "Python 3 (ipykernel)",
   "language": "python",
   "name": "python3"
  },
  "language_info": {
   "codemirror_mode": {
    "name": "ipython",
    "version": 3
   },
   "file_extension": ".py",
   "mimetype": "text/x-python",
   "name": "python",
   "nbconvert_exporter": "python",
   "pygments_lexer": "ipython3",
   "version": "3.10.12"
  }
 },
 "nbformat": 4,
 "nbformat_minor": 5
}
