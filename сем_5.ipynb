{
 "cells": [
  {
   "cell_type": "markdown",
   "id": "5fd40171-5f69-4fbb-9a21-c21b1ce98577",
   "metadata": {},
   "source": [
    "### 1 - Восстановить бинарное дерево из массива"
   ]
  },
  {
   "cell_type": "code",
   "execution_count": 302,
   "id": "8481d276-3f01-477d-9d0b-4cb690ba5b63",
   "metadata": {},
   "outputs": [],
   "source": [
    "class TreeNode():\n",
    "    def __init__ (self, val = 0, left = None,right = None):\n",
    "        self.val = val\n",
    "        self.left = left \n",
    "        self.right = right   "
   ]
  },
  {
   "cell_type": "code",
   "execution_count": 303,
   "id": "6730f105-558b-44fa-be17-5b2ebbfcd8e7",
   "metadata": {},
   "outputs": [],
   "source": [
    "def buildTree(arr,i):\n",
    "    if i >= len(arr): #i индекс, для которого строим поддерево\n",
    "        return None\n",
    "    root = TreeNode(arr[i])\n",
    "    root.left = buildTree(arr, 2 * i + 1)\n",
    "    root.right = buildTree(arr, 2 * i + 2)\n",
    "    return root       "
   ]
  },
  {
   "cell_type": "code",
   "execution_count": 304,
   "id": "f536d475-86bf-4a69-a5be-70604921a743",
   "metadata": {},
   "outputs": [
    {
     "name": "stdout",
     "output_type": "stream",
     "text": [
      "<__main__.TreeNode object at 0x76f39051a260>\n"
     ]
    }
   ],
   "source": [
    "bt = buildTree([3,8,8,9,6,6,9],0)\n",
    "print(bt)"
   ]
  },
  {
   "cell_type": "markdown",
   "id": "dbd44d3b-27b0-4261-bf61-d6493a89873a",
   "metadata": {},
   "source": [
    "### 2 - Симметричное дерево"
   ]
  },
  {
   "cell_type": "markdown",
   "id": "d424d7f3-c042-4276-a8cb-76ec91d5cad1",
   "metadata": {},
   "source": [
    "### 1) BFS"
   ]
  },
  {
   "cell_type": "code",
   "execution_count": 305,
   "id": "7b4b955d-a708-4516-b9bd-ebdf9add318d",
   "metadata": {},
   "outputs": [],
   "source": [
    "def isSymmetricBFS(bt):\n",
    "    nodes = [bt]\n",
    "    while len(nodes) != 0:\n",
    "        queue = []\n",
    "        for current in nodes:\n",
    "            if current.left:\n",
    "                queue.append(current.left)\n",
    "            if current.right:\n",
    "                queue.append(current.right)\n",
    "        \n",
    "        j = len(queue) - 1\n",
    "        for i in range(len(queue)//2):\n",
    "            if queue[i].val != queue[j].val:\n",
    "                return False\n",
    "            j -= 1\n",
    "        nodes = queue\n",
    "    return True"
   ]
  },
  {
   "cell_type": "code",
   "execution_count": 306,
   "id": "b174ded1-5538-4879-8cfd-557d4f1515c1",
   "metadata": {},
   "outputs": [],
   "source": [
    "# isSymmetricBFS(bt)"
   ]
  },
  {
   "cell_type": "markdown",
   "id": "207c3e56-bb21-45f2-9018-41edc52195c3",
   "metadata": {},
   "source": [
    "### 2) DFS"
   ]
  },
  {
   "cell_type": "code",
   "execution_count": 307,
   "id": "a2216c6d-384b-4abf-b8f4-adcaa94f8958",
   "metadata": {},
   "outputs": [],
   "source": [
    "def Depth_search(root,data):\n",
    "    if root == None:\n",
    "        return True\n",
    "    Depth_search(root.left,data)\n",
    "    data.append(root.val)\n",
    "    Depth_search(root.right,data)"
   ]
  },
  {
   "cell_type": "code",
   "execution_count": 308,
   "id": "144f5c74-ad7e-4117-abe8-b37f0a29db0a",
   "metadata": {},
   "outputs": [],
   "source": [
    "def isSymmetricDFS(root):\n",
    "    if root == None:\n",
    "        return True\n",
    "    data = []\n",
    "    Depth_search(root,data)\n",
    "    j = len(data) - 1\n",
    "    for i in range(len(data)//2):\n",
    "        if data[i] != data[j]:\n",
    "            return False\n",
    "        j -= 1\n",
    "    return True"
   ]
  },
  {
   "cell_type": "code",
   "execution_count": 309,
   "id": "64cab9d9-e737-4889-91ed-4eb7d39e8ae4",
   "metadata": {},
   "outputs": [
    {
     "data": {
      "text/plain": [
       "True"
      ]
     },
     "execution_count": 309,
     "metadata": {},
     "output_type": "execute_result"
    }
   ],
   "source": [
    "arr = [3,8,8,9,6,6,9]\n",
    "bt = buildTree(arr,0)\n",
    "isSymmetricDFS(bt)"
   ]
  },
  {
   "cell_type": "markdown",
   "id": "37aab790-ccb6-47b7-9c13-52979b31befc",
   "metadata": {},
   "source": [
    "### 3 - Поиск минимальной глубины бинарногодерева DFS"
   ]
  },
  {
   "cell_type": "code",
   "execution_count": 310,
   "id": "29ae103d-e68b-439b-9400-ca52afc19ee0",
   "metadata": {},
   "outputs": [],
   "source": [
    "# def minDepth_1(root):\n",
    "#     if root == None:\n",
    "#         return 0\n",
    "#     if root.left is not None and root.right is not None:\n",
    "#         return 1 + min(minDepth(root.left),minDepth(root.right))\n",
    "#     elif root.left is not None:\n",
    "#         return 1 + minDepth(root.left)\n",
    "#     elif root.right is not None:\n",
    "#         return 1 + minDepth(root.right)"
   ]
  },
  {
   "cell_type": "code",
   "execution_count": 311,
   "id": "868d10ca-a3f5-4248-8617-302db773e858",
   "metadata": {},
   "outputs": [],
   "source": [
    "def minDepth(root):\n",
    "    if root == None:\n",
    "        return 0\n",
    "    if root.left is None and root.right is None:  \n",
    "        return 1\n",
    "    if root.left is None or root.right is None:\n",
    "        return 1 + max(minDepth(root.left), minDepth(root.right))\n",
    "    return 1 + min(minDepth(root.left), minDepth(root.right))"
   ]
  },
  {
   "cell_type": "code",
   "execution_count": 312,
   "id": "1403daed-6e9f-4d90-ad5b-615b3286e2b9",
   "metadata": {},
   "outputs": [
    {
     "data": {
      "text/plain": [
       "3"
      ]
     },
     "execution_count": 312,
     "metadata": {},
     "output_type": "execute_result"
    }
   ],
   "source": [
    "arr = [3,8,8,None,9,6,6,9,6]\n",
    "bt = buildTree(arr,0)\n",
    "minDepth(bt)"
   ]
  },
  {
   "cell_type": "markdown",
   "id": "5c5b3505-3eda-456a-b369-fd15bbb83f1c",
   "metadata": {},
   "source": [
    "### 4 - Поиск произведения максимального и минимального элементов"
   ]
  },
  {
   "cell_type": "code",
   "execution_count": 322,
   "id": "f0dd19c8-e0c8-4e9d-bd0c-53b3609a9c26",
   "metadata": {},
   "outputs": [],
   "source": [
    "def maxMinMultiplication(data): ##по семинару\n",
    "    if len(data) < 2:\n",
    "        return -1\n",
    "    if len(data) == 2:\n",
    "        return data[0]*data[1]\n",
    "    min_ind = 1\n",
    "    max_ind = 2\n",
    "    i = 0\n",
    "    for i in range(1,len(data), 2*i+1):\n",
    "        min_ind = i\n",
    "    for i in range(1,len(data), 2*i+2):\n",
    "        max_ind = i\n",
    "    res = data[min_ind] * data[max_ind]\n",
    "    return res"
   ]
  },
  {
   "cell_type": "code",
   "execution_count": 323,
   "id": "5b72364b-70b0-4f6e-8d30-224e62c4cf53",
   "metadata": {},
   "outputs": [],
   "source": [
    "def maxMinMultiplication2(data): ##другое решение\n",
    "    if len(data) < 2:\n",
    "        return -1\n",
    "    if len(data) == 2:\n",
    "        return data[0]*data[1]\n",
    "    min_ind = 1\n",
    "    max_ind = 2\n",
    "    i = 0\n",
    "    for i in range(1,len(data)//2 + 1, 2*i+2):\n",
    "        min_ind = i\n",
    "    i = 0\n",
    "    for i in range(len(data)//2,len(data), 2*i+1):\n",
    "        max_ind = i\n",
    "    # print(data[min_ind],data[max_ind])\n",
    "    res = data[min_ind] * data[max_ind]\n",
    "    return res"
   ]
  },
  {
   "cell_type": "code",
   "execution_count": 324,
   "id": "259778a5-7162-48b8-9051-7cc265783e19",
   "metadata": {},
   "outputs": [],
   "source": [
    "# maxMinMultiplication([5,3,7,2,4,5,8])"
   ]
  },
  {
   "cell_type": "markdown",
   "id": "4068e187-9fe0-4648-8835-a70593230b56",
   "metadata": {},
   "source": [
    "### 5 - Являются ли два дерева одинаковыми"
   ]
  },
  {
   "cell_type": "code",
   "execution_count": 316,
   "id": "7db99598-2c75-46b6-9f91-c15c4086572d",
   "metadata": {},
   "outputs": [],
   "source": [
    "def isSameTree(a,b):\n",
    "    if a == None and b == None:\n",
    "        return True\n",
    "    if (a == None and b != None) or (a != None and b == None):\n",
    "        return False\n",
    "    if a.val != b.val:\n",
    "        return False\n",
    "    return isSameTree(a.left,b.left) and isSameTree(a.right,b.right)"
   ]
  },
  {
   "cell_type": "code",
   "execution_count": 317,
   "id": "6b73fc00-065f-4a82-a476-60a9cfaeb52f",
   "metadata": {},
   "outputs": [],
   "source": [
    "# arr1 = [3,8,8,9,6,6,9,6]\n",
    "# bt1 = buildTree(arr1,0)\n",
    "# arr2 = [3,8,8,9,6,6,9,6]\n",
    "# bt2 = buildTree(arr2,0)\n",
    "# isSameTree(bt1,bt2)"
   ]
  },
  {
   "cell_type": "markdown",
   "id": "19274289-44d9-467d-9836-2725b7c548ef",
   "metadata": {},
   "source": [
    "### 6 - Количество уникальных бинарных деревьев поиска"
   ]
  },
  {
   "cell_type": "markdown",
   "id": "33f4a7f9-632c-48be-94d5-62a9d619e860",
   "metadata": {},
   "source": [
    "### 1)"
   ]
  },
  {
   "cell_type": "raw",
   "id": "5fbd0adf-1941-42a2-865f-bc7a5eaf777c",
   "metadata": {},
   "source": [
    "Число Каталана Cn = (2n)! / ((n + 1)! * n!)\n",
    "C0 = 1\n",
    "Cn+1 = Cn * 2 * (2*n + 1)/(n+2)"
   ]
  },
  {
   "cell_type": "code",
   "execution_count": 318,
   "id": "2bbeab1c-efb1-42ae-bb66-eec35f7d8b7a",
   "metadata": {},
   "outputs": [],
   "source": [
    "def Catalan_UniqueBST(n):\n",
    "    tree_count = 1\n",
    "    if n == 1:\n",
    "        return 1\n",
    "    for i in range(1,n):\n",
    "        tree_count = tree_count * 2 * (2 * i + 1) / (i + 2)\n",
    "    return int(tree_count)"
   ]
  },
  {
   "cell_type": "code",
   "execution_count": 319,
   "id": "1514a6ab-c7cc-4991-b5a0-662f9cf934e5",
   "metadata": {},
   "outputs": [],
   "source": [
    "# Catalan_UniqueBST(5)"
   ]
  },
  {
   "cell_type": "code",
   "execution_count": 320,
   "id": "a7e8b5ec-905d-408a-97bb-ef197a583ddf",
   "metadata": {},
   "outputs": [],
   "source": [
    "def recursive_countUniqueBST(n):\n",
    "    if n == 0 or n == 1:\n",
    "        return 1\n",
    "    count = 0\n",
    "    for i in range(1, n + 1):\n",
    "        count_left = recursive_countUniqueBST(i - 1)\n",
    "        count_right = recursive_countUniqueBST(n - i)\n",
    "        count += count_left * count_right\n",
    "\n",
    "    return count"
   ]
  },
  {
   "cell_type": "code",
   "execution_count": 321,
   "id": "cc1f6128-a2cf-414f-a606-d7bd2d085a68",
   "metadata": {},
   "outputs": [],
   "source": [
    "# recursive_countUniqueBST(5)"
   ]
  },
  {
   "cell_type": "code",
   "execution_count": null,
   "id": "b5f2147b-7a32-488f-afef-14b1ea19e9fb",
   "metadata": {},
   "outputs": [],
   "source": []
  }
 ],
 "metadata": {
  "kernelspec": {
   "display_name": "Python 3 (ipykernel)",
   "language": "python",
   "name": "python3"
  },
  "language_info": {
   "codemirror_mode": {
    "name": "ipython",
    "version": 3
   },
   "file_extension": ".py",
   "mimetype": "text/x-python",
   "name": "python",
   "nbconvert_exporter": "python",
   "pygments_lexer": "ipython3",
   "version": "3.10.12"
  }
 },
 "nbformat": 4,
 "nbformat_minor": 5
}
