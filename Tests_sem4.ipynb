{
 "cells": [
  {
   "cell_type": "code",
   "execution_count": 117,
   "id": "c16bd84c-6da2-4555-9fd5-4526f9cb80c1",
   "metadata": {},
   "outputs": [],
   "source": [
    "import unittest\n",
    "import numpy as np\n",
    "%run сем_4.ipynb "
   ]
  },
  {
   "cell_type": "code",
   "execution_count": 118,
   "id": "61e59b50-d253-4753-9bc4-2798b7b710d1",
   "metadata": {},
   "outputs": [],
   "source": [
    "class TestShellSort(unittest.TestCase):\n",
    "    def test_1(self):\n",
    "        self.assertEqual(shell([]), [])\n",
    "\n",
    "    def test_2(self):\n",
    "        self.assertEqual(shell([1]), [1])\n",
    "\n",
    "    def test_3(self):\n",
    "        self.assertEqual(shell([2, 1]), [1, 2])\n",
    "\n",
    "    def test_4(self):\n",
    "        self.assertEqual(shell([1, 2, 3, 4]), [1, 2, 3, 4])\n",
    "\n",
    "    def test_5(self):\n",
    "        self.assertEqual(shell([1, 9, 3, 2]), [1, 2, 3, 9])\n",
    "\n",
    "    def test_6(self):\n",
    "        self.assertEqual(shell([9, 7, 8, 5, 6, 4, 3, 2, 1]), [1, 2, 3, 4, 5, 6, 7, 8, 9])\n",
    "        \n",
    "    def test_random_arr(self):\n",
    "        rand_arr = np.sort(np.random.randint(0, 100, 20))\n",
    "        self.assertTrue((shell(rand_arr) == rand_arr).all())"
   ]
  },
  {
   "cell_type": "code",
   "execution_count": 119,
   "id": "c929c2ca-d524-44c3-8bad-0acdc674b005",
   "metadata": {},
   "outputs": [],
   "source": [
    "class TestFeedAnimals(unittest.TestCase):\n",
    "    def test_1(self):\n",
    "        animals = [3, 4, 7]\n",
    "        food = [8, 1, 2] \n",
    "        res = 1\n",
    "        self.assertEqual(feed_animals(animals, food), res)\n",
    "\n",
    "    def test_2(self):\n",
    "        animals = [3, 8, 1, 4]\n",
    "        food = [1, 1, 2]\n",
    "        res = 1\n",
    "        self.assertEqual(feed_animals(animals, food), res)\n",
    "\n",
    "    def test_3(self):\n",
    "        animals = [1, 2, 2] \n",
    "        food = [7, 1] \n",
    "        res = 2\n",
    "        self.assertEqual(feed_animals(animals, food), res)\n",
    "\n",
    "    def test_4(self):\n",
    "        animals = [8, 2, 3, 2]\n",
    "        food =  [1, 4, 3, 8] \n",
    "        res = 3\n",
    "        self.assertEqual(feed_animals(animals, food), res)"
   ]
  },
  {
   "cell_type": "code",
   "execution_count": 120,
   "id": "ce5cc585-a869-4d5f-94b4-23f71984450c",
   "metadata": {},
   "outputs": [],
   "source": [
    "class TestExtraLetter(unittest.TestCase):\n",
    "    def test_1(self):\n",
    "        a = 'uio'\n",
    "        b = 'oeiu'\n",
    "        res = 'e'\n",
    "        self.assertEqual(extraLetter(a,b), res)\n",
    "\n",
    "    def test_2(self):\n",
    "        a = 'fe'\n",
    "        b = 'efo'\n",
    "        res = \"o\"\n",
    "        self.assertEqual(extraLetter(a,b), res)\n",
    "    def test_3(self):\n",
    "        a = 'ab'\n",
    "        b = 'ba'\n",
    "        res = \"\"\n",
    "        self.assertEqual(extraLetter(a,b), res)\n",
    "    def test_4(self):\n",
    "        a = 'bbb'\n",
    "        b = 'bbbb'\n",
    "        res = \"b\"\n",
    "        self.assertEqual(extraLetter(a,b), res)"
   ]
  },
  {
   "cell_type": "code",
   "execution_count": 121,
   "id": "0342cf8c-eb27-4d49-a553-41404c38844f",
   "metadata": {},
   "outputs": [],
   "source": [
    "class TestTwoSumFunction(unittest.TestCase):\n",
    "    def test_1(self):\n",
    "        self.assertEqual(sorted(twoSum([2, 7, 11, 15], 9)), [0, 1])\n",
    "    \n",
    "    def test_2(self):\n",
    "        self.assertEqual(twoSum([2, 7, 11, 15], 99), [])\n",
    "    \n",
    "    def test_3(self):\n",
    "        self.assertEqual(sorted(twoSum([-3, 4, 3, 90], 0)), [0, 2])\n",
    "    \n",
    "    def test_4(self):\n",
    "        self.assertEqual(sorted(twoSum([3, 3], 6)), [0, 1])\n",
    "    \n",
    "    def test_5(self):\n",
    "        self.assertEqual(twoSum([3], 6), [])"
   ]
  },
  {
   "cell_type": "code",
   "execution_count": 122,
   "id": "eae246c2-147f-4211-b13e-bb5b1fb984fd",
   "metadata": {},
   "outputs": [],
   "source": [
    "class TestAnagramFunction(unittest.TestCase):\n",
    "\n",
    "    def test_1(self):\n",
    "        input_data =  [\"eat\",\"tea\",\"tan\",\"ate\",\"nat\",\"bat\"]\n",
    "        expected_data = [[\"bat\"],[\"nat\",\"tan\"],[\"ate\",\"eat\",\"tea\"]]\n",
    "        result = anagram(input_data)\n",
    "        self.assertEqual(len(result), len(expected_data))\n",
    "        for group in result:\n",
    "            self.assertTrue(sorted(group) in map(sorted, expected_data))\n",
    "\n",
    "    def test_2(self):\n",
    "        input_data = [\"bag\", \"gab\"]\n",
    "        expected_data = [[\"bag\", \"gab\"]]\n",
    "        self.assertEqual(sorted(anagram(input_data)[0]), sorted(expected_data[0]))\n",
    "        \n",
    "    def test_3(self):\n",
    "        input_data =  [\"won\",\"now\",\"aaa\",\"ooo\",\"ooo\"]\n",
    "        expected_data = [[\"aaa\"],[\"ooo\", \"ooo\"],[\"won\",\"now\"]]\n",
    "        result = anagram(input_data)\n",
    "        self.assertEqual(len(result), len(expected_data))\n",
    "        for group in result:\n",
    "            self.assertTrue(sorted(group) in map(sorted, expected_data))\n",
    "\n",
    "    def test_4(self):\n",
    "        self.assertEqual(anagram([]), [])"
   ]
  },
  {
   "cell_type": "code",
   "execution_count": 123,
   "id": "980a3279-3f52-497c-966e-6f57f74dc01a",
   "metadata": {},
   "outputs": [
    {
     "name": "stderr",
     "output_type": "stream",
     "text": [
      "........................\n",
      "----------------------------------------------------------------------\n",
      "Ran 24 tests in 0.014s\n",
      "\n",
      "OK\n"
     ]
    }
   ],
   "source": [
    "if __name__ == '__main__':\n",
    "    unittest.main(argv=['first-arg-is-ignored'], exit=False)"
   ]
  },
  {
   "cell_type": "code",
   "execution_count": null,
   "id": "ff3f30b8-93ca-464c-8372-aebedd84af3b",
   "metadata": {},
   "outputs": [],
   "source": []
  }
 ],
 "metadata": {
  "kernelspec": {
   "display_name": "Python 3 (ipykernel)",
   "language": "python",
   "name": "python3"
  },
  "language_info": {
   "codemirror_mode": {
    "name": "ipython",
    "version": 3
   },
   "file_extension": ".py",
   "mimetype": "text/x-python",
   "name": "python",
   "nbconvert_exporter": "python",
   "pygments_lexer": "ipython3",
   "version": "3.10.12"
  }
 },
 "nbformat": 4,
 "nbformat_minor": 5
}
