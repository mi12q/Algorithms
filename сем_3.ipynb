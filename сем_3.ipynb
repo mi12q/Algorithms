{
 "cells": [
  {
   "cell_type": "code",
   "execution_count": 24,
   "id": "217b5fc4-a08c-44f2-82f8-4dbd35764b25",
   "metadata": {},
   "outputs": [],
   "source": [
    "import math"
   ]
  },
  {
   "cell_type": "markdown",
   "id": "81a651e8-3ae2-4f38-8cb5-4a97243ec0b4",
   "metadata": {},
   "source": [
    "### Очень лёгкая задача "
   ]
  },
  {
   "cell_type": "code",
   "execution_count": 25,
   "id": "7d07a562-ec02-41bd-9fcb-f01e72250424",
   "metadata": {},
   "outputs": [],
   "source": [
    "def copyTime(n, x, y):\n",
    "    l = 0\n",
    "    r = (n - 1) * max(x, y)\n",
    "    while l + 1 < r:\n",
    "        mid = l + (r - l) / 2                 ### middle/x + middle/y - количество листов, которое 2 ксерокса могут напечатать на текущий момент\n",
    "        if mid/x + mid/y < n-1: \n",
    "            l = mid\n",
    "        else:\n",
    "            r = mid\n",
    "    return r + min(x, y)"
   ]
  },
  {
   "cell_type": "code",
   "execution_count": 26,
   "id": "04c32746-79ee-48d1-90bf-0fb99ae73b24",
   "metadata": {},
   "outputs": [
    {
     "name": "stdout",
     "output_type": "stream",
     "text": [
      "12.96875\n"
     ]
    }
   ],
   "source": [
    "print(copyTime(10,2,3))"
   ]
  },
  {
   "cell_type": "markdown",
   "id": "6daedb8b-256f-4884-9616-836eefec5212",
   "metadata": {},
   "source": [
    "### Является ли одна строка подпоследовательностью другой строки"
   ]
  },
  {
   "cell_type": "code",
   "execution_count": 27,
   "id": "6b4267f1-a427-4a7a-bef1-8a8529253d6d",
   "metadata": {},
   "outputs": [],
   "source": [
    "from collections import deque"
   ]
  },
  {
   "cell_type": "code",
   "execution_count": 28,
   "id": "0b00e11d-88d8-4bc5-b897-174d4061385b",
   "metadata": {},
   "outputs": [],
   "source": [
    "def is_subsequence(a, b):\n",
    "    q = deque()\n",
    "    for el in a:\n",
    "        q.append(el)\n",
    "    for el in b:        self.head = None\n",
    "        if len(q) == 0:\n",
    "            return True\n",
    "        if q[0] == el:\n",
    "            q.popleft()\n",
    "    return len(q) == 0"
   ]
  },
  {
   "cell_type": "code",
   "execution_count": 29,
   "id": "a43ff1d0-8ee5-42d0-8682-97163d46bd2b",
   "metadata": {},
   "outputs": [
    {
     "name": "stdout",
     "output_type": "stream",
     "text": [
      "True\n",
      "False\n"
     ]
    }
   ],
   "source": [
    "a = \"orange\"; b = \"freshorangejuice\"\n",
    "print(is_subsequence(a, b))\n",
    "a = \"dog\"; b = \"crocodile\"\n",
    "print(is_subsequence(a, b))"
   ]
  },
  {
   "cell_type": "markdown",
   "id": "3d235382-7d66-4b32-a5a3-b115283501af",
   "metadata": {},
   "source": [
    "### Найти корень числа (ближайшее целое)"
   ]
  },
  {
   "cell_type": "code",
   "execution_count": 46,
   "id": "2f690ab2-63b4-4aa8-99f8-a4d04953a5e6",
   "metadata": {},
   "outputs": [],
   "source": [
    "def binarySearchSqrt(target):\n",
    "    l = 0; r = target\n",
    "    while l <= r:\n",
    "        middle = int(l+(r-l) / 2)\n",
    "        if middle**2 > target:\n",
    "            r = middle - 1\n",
    "            continue\n",
    "        if middle**2 < target:\n",
    "            l = middle + 1\n",
    "            continue\n",
    "        return middle\n",
    "    return r"
   ]
  },
  {
   "cell_type": "code",
   "execution_count": 51,
   "id": "f46fa0ed-4506-4f31-b77f-303145fb8b37",
   "metadata": {},
   "outputs": [
    {
     "name": "stdout",
     "output_type": "stream",
     "text": [
      "4\n"
     ]
    }
   ],
   "source": [
    "print(binarySearchSqrt(16))"
   ]
  },
  {
   "cell_type": "markdown",
   "id": "8b12bc78-1d40-468b-b6b1-2b94c3e22e06",
   "metadata": {},
   "source": [
    "### Является ли слово палиндромом"
   ]
  },
  {
   "cell_type": "code",
   "execution_count": 32,
   "id": "c1750718-44a1-49dd-afc0-cdeaffb90ba0",
   "metadata": {},
   "outputs": [],
   "source": [
    "def is_Palindrome1(s):\n",
    "    stack = []\n",
    "    for char in s:\n",
    "        stack.append(char)\n",
    "    for char in s:\n",
    "        if char != stack.pop():\n",
    "            return False\n",
    "    return True"
   ]
  },
  {
   "cell_type": "code",
   "execution_count": 33,
   "id": "b3131052-0603-47ad-a561-374d5f1b0dd3",
   "metadata": {},
   "outputs": [
    {
     "name": "stdout",
     "output_type": "stream",
     "text": [
      "True\n",
      "True\n",
      "False\n",
      "False\n"
     ]
    }
   ],
   "source": [
    "string = [\"боб\",\"око\",\"человек\",\"hello\"]\n",
    "for i in string:\n",
    "    print(is_Palindrome1(i))"
   ]
  },
  {
   "cell_type": "code",
   "execution_count": 34,
   "id": "c31df271-d498-4b69-bb60-8423496c3587",
   "metadata": {},
   "outputs": [],
   "source": [
    "def is_Palindrome2(s):\n",
    "    l = 0\n",
    "    r = len(s)-1\n",
    "    while l <= r:\n",
    "        if s[l] != s[r]:\n",
    "            return False\n",
    "        l+=1\n",
    "        r-=1\n",
    "    return True"
   ]
  },
  {
   "cell_type": "code",
   "execution_count": 35,
   "id": "cb3a1899-736d-4be2-806c-58fbb2349096",
   "metadata": {},
   "outputs": [
    {
     "name": "stdout",
     "output_type": "stream",
     "text": [
      "True\n",
      "True\n",
      "False\n",
      "False\n"
     ]
    }
   ],
   "source": [
    "for i in string:\n",
    "    print(is_Palindrome2(i))"
   ]
  },
  {
   "cell_type": "markdown",
   "id": "8810220a-7a11-497f-b549-ef31e8f71710",
   "metadata": {},
   "source": [
    "### ДЗ - Является ли одна строка подпоследовательностью другой строки?"
   ]
  },
  {
   "cell_type": "code",
   "execution_count": 42,
   "id": "45bb9a11-668f-460c-adf5-96418610a966",
   "metadata": {},
   "outputs": [],
   "source": [
    "def is_subsequence2(a,b):\n",
    "    ind1 = 0; ind2 = 0\n",
    "    while ind1 < len(a) and ind2 < len(b):\n",
    "        if a[ind1] == b[ind2]:\n",
    "            ind1 += 1\n",
    "        ind2 += 1\n",
    "\n",
    "    return ind1 == len(a)"
   ]
  },
  {
   "cell_type": "code",
   "execution_count": 43,
   "id": "c5f95709-d616-4468-a0b0-3b8e9bf6ad42",
   "metadata": {},
   "outputs": [
    {
     "name": "stdout",
     "output_type": "stream",
     "text": [
      "True\n",
      "False\n"
     ]
    }
   ],
   "source": [
    "a = \"orange\"; b = \"freshorangejuice\"\n",
    "print(is_subsequence2(a, b))\n",
    "a = \"dog\"; b = \"crocodile\"\n",
    "print(is_subsequence2(a, b))"
   ]
  },
  {
   "cell_type": "markdown",
   "id": "2e2c1a10-23e1-48ec-874b-48dc6cab13b2",
   "metadata": {},
   "source": [
    "### ДЗ - Удаление рядом стоящих дубликатов"
   ]
  },
  {
   "cell_type": "code",
   "execution_count": 44,
   "id": "c7b19707-89b4-4096-b79c-d737d057da8a",
   "metadata": {},
   "outputs": [],
   "source": [
    "def remove_duplicates(s):\n",
    "    s = list(s)\n",
    "    i = 0; j = 1\n",
    "    n = len(s) - 1\n",
    "    while(j <= n):\n",
    "        if s[i] == s[j]:\n",
    "            s.pop(i); s.pop(j-1)\n",
    "            i = -1; j = 0; n -= 2\n",
    "        i+=1; j+=1\n",
    "    s = \"\".join(str(element) for element in s)\n",
    "    return s"
   ]
  },
  {
   "cell_type": "code",
   "execution_count": 45,
   "id": "62e4ab09-cdb9-4259-87d2-41bf27aa75ec",
   "metadata": {},
   "outputs": [
    {
     "name": "stdout",
     "output_type": "stream",
     "text": [
      "c\n",
      "uiui\n"
     ]
    }
   ],
   "source": [
    "string = ['cdffd', 'uioouiouuo']\n",
    "for el in string:\n",
    "    print(remove_duplicates(el))"
   ]
  },
  {
   "cell_type": "code",
   "execution_count": null,
   "id": "0d66113c-1bc1-4945-87ca-37ee56ab292c",
   "metadata": {},
   "outputs": [],
   "source": []
  }
 ],
 "metadata": {
  "kernelspec": {
   "display_name": "Python 3 (ipykernel)",
   "language": "python",
   "name": "python3"
  },
  "language_info": {
   "codemirror_mode": {
    "name": "ipython",
    "version": 3
   },
   "file_extension": ".py",
   "mimetype": "text/x-python",
   "name": "python",
   "nbconvert_exporter": "python",
   "pygments_lexer": "ipython3",
   "version": "3.10.12"
  }
 },
 "nbformat": 4,
 "nbformat_minor": 5
}
