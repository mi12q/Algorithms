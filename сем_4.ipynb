{
 "cells": [
  {
   "cell_type": "code",
   "execution_count": 162,
   "id": "6e2febd3-897d-4066-9206-6854113f0fac",
   "metadata": {},
   "outputs": [],
   "source": [
    "def swap(arr, ind1, ind2):\n",
    "    temp = arr[ind1]\n",
    "    arr[ind1] = arr[ind2]\n",
    "    arr[ind2] = temp\n",
    "    return arr"
   ]
  },
  {
   "cell_type": "markdown",
   "id": "248168c9-d3a1-4015-beba-3f0ee949158f",
   "metadata": {},
   "source": [
    "### 1 - Сортировка Шелла"
   ]
  },
  {
   "cell_type": "code",
   "execution_count": 188,
   "id": "169a711d-0c85-4fd0-be15-d008be5dafa3",
   "metadata": {},
   "outputs": [],
   "source": [
    "def shell(arr):\n",
    "    gap = len(arr)//2\n",
    "    while gap > 0:\n",
    "        for curr in range(gap, len(arr)):\n",
    "            m = curr\n",
    "            while m >= gap and arr[m] < arr[m-gap]:\n",
    "                arr = swap(arr,m,m-gap)\n",
    "                m -= gap\n",
    "        gap = gap//2\n",
    "    return arr"
   ]
  },
  {
   "cell_type": "code",
   "execution_count": 189,
   "id": "7ec9fe5d-453d-461a-925b-919438843c57",
   "metadata": {},
   "outputs": [
    {
     "name": "stdout",
     "output_type": "stream",
     "text": [
      "[0, 0, 0, 1, 4, 12, 15, 17, 56]\n"
     ]
    }
   ],
   "source": [
    "# arr = [0,12,15,0,4,1,17,0,56]\n",
    "# print(shell(arr))"
   ]
  },
  {
   "cell_type": "markdown",
   "id": "306a1e31-75a3-4db2-9fc9-d9621b294940",
   "metadata": {},
   "source": [
    "### 2 - Накормить животных"
   ]
  },
  {
   "cell_type": "code",
   "execution_count": 203,
   "id": "5d9b727b-b9f0-4aa4-82f6-caf069473aeb",
   "metadata": {},
   "outputs": [],
   "source": [
    "def feed_animals(animals, food):\n",
    "    if len(animals) == 0:\n",
    "        return 0\n",
    "    if(len(food)) == 0:\n",
    "        return 0\n",
    "    animals.sort()\n",
    "    food.sort()\n",
    "    count = 0\n",
    "    for el in food:\n",
    "        if el >= animals[count]:\n",
    "            count += 1\n",
    "        if count == len(animals):\n",
    "            break\n",
    "    return count"
   ]
  },
  {
   "cell_type": "code",
   "execution_count": 204,
   "id": "442c7c46-af53-4154-8bac-f2f6d5b08c6d",
   "metadata": {},
   "outputs": [
    {
     "name": "stdout",
     "output_type": "stream",
     "text": [
      "3\n"
     ]
    }
   ],
   "source": [
    "# print(feed_animals([8, 2, 3, 2 ],[1, 3, 4, 8]))"
   ]
  },
  {
   "cell_type": "markdown",
   "id": "82145bc0-27e7-40db-b618-7405fe50239f",
   "metadata": {},
   "source": [
    "### 3 - Найти разницу между двух строк"
   ]
  },
  {
   "cell_type": "code",
   "execution_count": 167,
   "id": "bbb01662-f456-4a01-968f-7c32c0a14895",
   "metadata": {},
   "outputs": [],
   "source": [
    "def is_longer(a,b):\n",
    "    temp = a\n",
    "    if len(b) > len(a):\n",
    "        a = b\n",
    "        b = temp\n",
    "    return a,b         "
   ]
  },
  {
   "cell_type": "code",
   "execution_count": 168,
   "id": "db15be31-8e5d-46e8-a1d9-717ab106269d",
   "metadata": {},
   "outputs": [],
   "source": [
    "def extraLetter(a,b):\n",
    "    a, b = is_longer(a,b)\n",
    "    hash_map_a = dict.fromkeys(a,0)\n",
    "    for i in range(0,len(a)):\n",
    "        hash_map_a[a[i]] += 1\n",
    "    for i in range(0,len(b)):\n",
    "        if b[i] in hash_map_a:\n",
    "            hash_map_a[b[i]] -= 1\n",
    "            if hash_map_a[b[i]] == 0:\n",
    "                del hash_map_a[b[i]]\n",
    "            continue\n",
    "        continue\n",
    "    return \"\".join(hash_map_a.keys())"
   ]
  },
  {
   "cell_type": "code",
   "execution_count": 169,
   "id": "872f2122-fb27-4d58-b370-ddcd626632bc",
   "metadata": {},
   "outputs": [],
   "source": [
    "# a = 'iu'; b = 'ieyur'\n",
    "# print(extraLetter(a,b))"
   ]
  },
  {
   "cell_type": "markdown",
   "id": "13d4936a-da72-4e14-afd0-f96b59bf329f",
   "metadata": {},
   "source": [
    "### 4 - Сумма двух элементов массива"
   ]
  },
  {
   "cell_type": "code",
   "execution_count": 206,
   "id": "eb7e3efd-ef57-4468-8774-44b18e0df91b",
   "metadata": {},
   "outputs": [],
   "source": [
    "def twoSum(data,target):\n",
    "    cache = {}\n",
    "    for i in range(len(data)):\n",
    "        cache[data[i]] = i\n",
    "    for i in range(len(data)):\n",
    "        diff = target - data[i]\n",
    "        if diff in cache:\n",
    "            if i != cache[diff]:\n",
    "                return [i,cache[diff]]\n",
    "    return []"
   ]
  },
  {
   "cell_type": "code",
   "execution_count": 207,
   "id": "34913ac7-d0cb-47a2-81e1-3bc5c9033ee6",
   "metadata": {},
   "outputs": [
    {
     "data": {
      "text/plain": [
       "[]"
      ]
     },
     "execution_count": 207,
     "metadata": {},
     "output_type": "execute_result"
    }
   ],
   "source": [
    "# twoSum([2,3,5,1,8,7,16,3],100)"
   ]
  },
  {
   "cell_type": "markdown",
   "id": "78171a19-d9c0-4cc2-b627-ec1f0db5e81c",
   "metadata": {},
   "source": [
    "### 4 - Массив анаграмм"
   ]
  },
  {
   "cell_type": "code",
   "execution_count": 172,
   "id": "68ee6e21-1ab4-4059-bf69-424a77766b7e",
   "metadata": {},
   "outputs": [],
   "source": [
    "def anagram(data):\n",
    "    anagrams = {}\n",
    "    for string in data:\n",
    "        sorted_string = ''.join(sorted(string))\n",
    "        if sorted_string not in anagrams:\n",
    "            anagrams[sorted_string] = []\n",
    "        anagrams[sorted_string].append(string)\n",
    "    return list(anagrams.values())"
   ]
  },
  {
   "cell_type": "code",
   "execution_count": 173,
   "id": "272d71b1-503c-47fc-acf7-4eaab0264134",
   "metadata": {},
   "outputs": [],
   "source": [
    "# print(anagram([\"eat\",\"tea\",\"tan\",\"ate\",\"nat\",\"bat\"]))"
   ]
  }
 ],
 "metadata": {
  "kernelspec": {
   "display_name": "Python 3 (ipykernel)",
   "language": "python",
   "name": "python3"
  },
  "language_info": {
   "codemirror_mode": {
    "name": "ipython",
    "version": 3
   },
   "file_extension": ".py",
   "mimetype": "text/x-python",
   "name": "python",
   "nbconvert_exporter": "python",
   "pygments_lexer": "ipython3",
   "version": "3.10.12"
  }
 },
 "nbformat": 4,
 "nbformat_minor": 5
}
