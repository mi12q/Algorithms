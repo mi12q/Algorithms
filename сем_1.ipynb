{
 "cells": [
  {
   "cell_type": "markdown",
   "id": "7fd8753b-1495-47bb-b38d-ba574e706130",
   "metadata": {},
   "source": [
    "### Развернуть массив "
   ]
  },
  {
   "cell_type": "code",
   "execution_count": 4,
   "id": "a748be9d-879e-4ca8-abaa-8b4b18379cc2",
   "metadata": {},
   "outputs": [],
   "source": [
    "def swap(arr, ind1, ind2):\n",
    "    temp = arr[ind1]\n",
    "    arr[ind1] = arr[ind2]\n",
    "    arr[ind2] = temp\n",
    "    return arr"
   ]
  },
  {
   "cell_type": "code",
   "execution_count": 5,
   "id": "5f0ffa2e-f248-49f6-86d3-abd40da9635f",
   "metadata": {},
   "outputs": [],
   "source": [
    "def reverse(arr):\n",
    "    ind1 = 0\n",
    "    ind2 = len(arr) - 1\n",
    "\n",
    "    while (ind1 < ind2):\n",
    "        arr = swap(arr,ind1,ind2)\n",
    "        ind1 +=1 \n",
    "        ind2 -=1\n",
    "    return arr"
   ]
  },
  {
   "cell_type": "code",
   "execution_count": 6,
   "id": "6656ee2c-29de-435d-bafa-915614889336",
   "metadata": {},
   "outputs": [
    {
     "name": "stdout",
     "output_type": "stream",
     "text": [
      "[5, 4, 3, 2, 1]\n"
     ]
    }
   ],
   "source": [
    "array = [1,2,3,4,5]\n",
    "print(reverse(array))"
   ]
  },
  {
   "cell_type": "markdown",
   "id": "709888bc-ae98-4e91-8c0c-a9718e3693a5",
   "metadata": {},
   "source": [
    "### Развернуть часть массива"
   ]
  },
  {
   "cell_type": "code",
   "execution_count": 7,
   "id": "c13cf644-d8cf-4c93-8984-bf8bd2077f01",
   "metadata": {},
   "outputs": [],
   "source": [
    "def reverse2(arr,ind1,ind2):\n",
    "    while(ind1 < ind2):\n",
    "        arr = swap(arr,ind1,ind2)\n",
    "        ind1 +=1 \n",
    "        ind2 -=1\n",
    "    return arr"
   ]
  },
  {
   "cell_type": "code",
   "execution_count": 36,
   "id": "3c0e619a-7485-49d4-b4ef-843283de7144",
   "metadata": {},
   "outputs": [],
   "source": [
    "def solve(arr,k):\n",
    "    n = len(arr)\n",
    "    if k <= n:\n",
    "        arr = reverse2(arr,0,n-1) ## меняем местами\n",
    "        arr = reverse2(arr,0,k-1) ## разворачиваем первые k чисел\n",
    "        arr = reverse2(arr,k,n-1) ## весь массыв\n",
    "    else:\n",
    "        arr = reverse2(arr,0,n-1)\n",
    "        arr = reverse2(arr,0,k % n-1) ## разворачиваем первые k чисел\n",
    "        arr = reverse2(arr,k % n ,n-1)\n",
    "        \n",
    "    return arr"
   ]
  },
  {
   "cell_type": "code",
   "execution_count": 45,
   "id": "06b09af3-a3bf-4c5a-ba07-05a59b65d31c",
   "metadata": {},
   "outputs": [
    {
     "name": "stdout",
     "output_type": "stream",
     "text": [
      "[4, 5, 1, 2, 3]\n"
     ]
    }
   ],
   "source": [
    "array = [1,2,3,4,5]\n",
    "print(solve(array,2))"
   ]
  },
  {
   "cell_type": "markdown",
   "id": "02f324dd-2c39-4a0a-bba3-ef11aa021bdd",
   "metadata": {},
   "source": [
    "### Слияние двух отсортированных массивов"
   ]
  },
  {
   "cell_type": "code",
   "execution_count": 10,
   "id": "d6276eb1-77ed-4f2d-a735-8d519433feda",
   "metadata": {},
   "outputs": [],
   "source": [
    "def merge(arr1,arr2):\n",
    "    merged = []\n",
    "    i = 0; j = 0\n",
    "    while (i < len(arr1) and j < len(arr2)):\n",
    "        if arr1[i] < arr2[j]:\n",
    "            merged.append(arr1[i])\n",
    "            i += 1\n",
    "        else:\n",
    "            merged.append(arr2[j])\n",
    "            j += 1\n",
    "    for i in (arr1[i:]):\n",
    "        merged.append(i)\n",
    "    for j in (arr2[j:]):\n",
    "        merged.append(j)\n",
    "    return merged"
   ]
  },
  {
   "cell_type": "code",
   "execution_count": 54,
   "id": "ec228e1e-c4fa-48cc-bb89-a7d0401b280f",
   "metadata": {},
   "outputs": [
    {
     "name": "stdout",
     "output_type": "stream",
     "text": [
      "[7, 8, 10, 11, 17, 18]\n"
     ]
    }
   ],
   "source": [
    "arr1 = [8,11,18]; arr2 = [7,10,17]\n",
    "print(merge(arr1,arr2))"
   ]
  },
  {
   "cell_type": "markdown",
   "id": "ea9a2c79-86d2-4096-ad85-3db5476e8551",
   "metadata": {},
   "source": [
    "### 2 способ"
   ]
  },
  {
   "cell_type": "code",
   "execution_count": 88,
   "id": "1486438b-9fb9-4e5a-a660-ea57dba698ae",
   "metadata": {},
   "outputs": [],
   "source": [
    "def merge2(arr1,arr2):\n",
    "    ind1 = len(arr1) - len(arr2) - 1\n",
    "    ind2 = len(arr2) - 1\n",
    "    ind3 = len(arr1) - 1\n",
    "\n",
    "    while ind2 >= 0:\n",
    "        if ind1 >= 0 and (arr1[ind1] > arr2[ind2]):\n",
    "            arr1[ind3] = arr1[ind1]\n",
    "            ind1 -= 1\n",
    "\n",
    "        else:\n",
    "            arr1[ind3] = arr2[ind2]\n",
    "            ind2 -=1\n",
    "\n",
    "        ind3 -= 1\n",
    "        \n",
    "    return arr1"
   ]
  },
  {
   "cell_type": "code",
   "execution_count": 89,
   "id": "ebe15e68-3f20-4b9f-a27f-8b46f5d18386",
   "metadata": {},
   "outputs": [
    {
     "name": "stdout",
     "output_type": "stream",
     "text": [
      "[1, 3, 7, 8, 9, 10, 11]\n"
     ]
    }
   ],
   "source": [
    "arr1 = [3,8,10,11,0,0,0]\n",
    "arr2 = [1,7,9]\n",
    "print(merge2(arr1,arr2))"
   ]
  },
  {
   "cell_type": "markdown",
   "id": "3732352a-a398-4b31-9f27-f8c866338ee7",
   "metadata": {},
   "source": [
    "### Передвинуть четные числа вперед"
   ]
  },
  {
   "cell_type": "code",
   "execution_count": 65,
   "id": "caf6ab1a-1783-4409-95c9-1942cae1fd93",
   "metadata": {},
   "outputs": [],
   "source": [
    "def sort3(arr):\n",
    "    even = 0\n",
    "    for i in range(len(arr)):\n",
    "        if arr[i] % 2 == 0:\n",
    "            arr = swap(arr,i,even)\n",
    "            even += 1\n",
    "    return arr"
   ]
  },
  {
   "cell_type": "code",
   "execution_count": 15,
   "id": "d6acbe2f-4670-47b8-9656-c51d9ad1d7b9",
   "metadata": {},
   "outputs": [
    {
     "data": {
      "text/plain": [
       "[4, 8, 5, 7, 3, 7]"
      ]
     },
     "execution_count": 15,
     "metadata": {},
     "output_type": "execute_result"
    }
   ],
   "source": [
    "sort3([3,7,5,7,4,8])"
   ]
  },
  {
   "cell_type": "markdown",
   "id": "5f200bf8-bce7-4ead-a859-143b9538a4b0",
   "metadata": {},
   "source": [
    "### ДЗ - Нули в конец"
   ]
  },
  {
   "cell_type": "code",
   "execution_count": 91,
   "id": "d58ea495-3f00-46b8-a048-31bc80d7c4be",
   "metadata": {},
   "outputs": [],
   "source": [
    "def sort_zeros(arr):\n",
    "    count = 0; size = len(arr)\n",
    "    for i in range(0, size):\n",
    "        if arr[i] != 0:\n",
    "            arr[count] = arr[i]; count += 1\n",
    "    for i in range(count,size):\n",
    "        arr[i] = 0\n",
    "    return arr"
   ]
  },
  {
   "cell_type": "code",
   "execution_count": 92,
   "id": "0a3b42ee-3212-46b0-a0b6-3407682ec1c5",
   "metadata": {},
   "outputs": [
    {
     "name": "stdout",
     "output_type": "stream",
     "text": [
      "[1, 3, 12, 0, 0, 0]\n"
     ]
    }
   ],
   "source": [
    "arr1 = [0,0,1,0,3,12]\n",
    "print(sort_zeros(arr1))"
   ]
  },
  {
   "cell_type": "code",
   "execution_count": 93,
   "id": "cec4af54-c125-4516-a085-cf2737300d3a",
   "metadata": {},
   "outputs": [
    {
     "name": "stdout",
     "output_type": "stream",
     "text": [
      "[33, 57, 88, 60, 80, 90, 0, 0, 0]\n"
     ]
    }
   ],
   "source": [
    "arr2 = [0,33,57,88,60,0,0,80,90]\n",
    "print(sort_zeros(arr2))"
   ]
  },
  {
   "cell_type": "code",
   "execution_count": 94,
   "id": "ff753662-9f5d-4ca1-8724-745fab7d8c12",
   "metadata": {},
   "outputs": [
    {
     "name": "stdout",
     "output_type": "stream",
     "text": [
      "[18, 16, 77, 99, 0, 0, 0, 0, 0]\n"
     ]
    }
   ],
   "source": [
    "arr3 = [0,0,0,18,16,0,0,77,99]\n",
    "print(sort_zeros(arr3))"
   ]
  },
  {
   "cell_type": "code",
   "execution_count": null,
   "id": "f360296d-92fb-4f86-8a44-4aa734239c91",
   "metadata": {},
   "outputs": [],
   "source": []
  }
 ],
 "metadata": {
  "kernelspec": {
   "display_name": "Python 3 (ipykernel)",
   "language": "python",
   "name": "python3"
  },
  "language_info": {
   "codemirror_mode": {
    "name": "ipython",
    "version": 3
   },
   "file_extension": ".py",
   "mimetype": "text/x-python",
   "name": "python",
   "nbconvert_exporter": "python",
   "pygments_lexer": "ipython3",
   "version": "3.10.12"
  }
 },
 "nbformat": 4,
 "nbformat_minor": 5
}
