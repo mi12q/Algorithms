{
 "cells": [
  {
   "cell_type": "code",
   "execution_count": 89,
   "id": "0ed304fa-e3c2-4adb-967f-d858101d200b",
   "metadata": {},
   "outputs": [],
   "source": [
    "import math\n",
    "import random"
   ]
  },
  {
   "cell_type": "code",
   "execution_count": 90,
   "id": "176a9ea1-e724-43b3-ac35-b28dff08dac1",
   "metadata": {},
   "outputs": [],
   "source": [
    "class Node(object):\n",
    "    def __init__ (self, data):\n",
    "        self.data = data\n",
    "        self.next = None   \n",
    "    \n",
    "class LinkedList:\n",
    "    def __init__(self):\n",
    "        self.head = None\n",
    "    def append_front(self, data):\n",
    "        new_node = Node(data)\n",
    "        if self.head is None:\n",
    "            self.head = new_node\n",
    "            return\n",
    "        new_node.next = self.head\n",
    "        self.head = new_node\n",
    "    def append_back(self, data):\n",
    "        new_node = Node(data)\n",
    "        if self.head is None:\n",
    "            self.head = new_node\n",
    "            return\n",
    "        cur_node = self.head\n",
    "        while cur_node.next is not None:\n",
    "            cur_node = cur_node.next\n",
    "        cur_node.next = new_node\n",
    "    def print(self):\n",
    "        arr = []\n",
    "        cur_node = self.head\n",
    "        arr.append(cur_node.data)\n",
    "        while cur_node.next is not None:\n",
    "            cur_node = cur_node.next\n",
    "            arr.append(cur_node.data)\n",
    "        print(*arr, sep=\", \")"
   ]
  },
  {
   "cell_type": "markdown",
   "id": "3f74137b-c824-4b46-8cd5-7d2ce70c712f",
   "metadata": {},
   "source": [
    "### Является ли список циклическим"
   ]
  },
  {
   "cell_type": "code",
   "execution_count": 91,
   "id": "e93955f8-c1a4-4569-b6e7-4ae5558a4eb7",
   "metadata": {},
   "outputs": [],
   "source": [
    "def hasCycle(lista):\n",
    "    head = lista.head\n",
    "    if head == None:\n",
    "        return False\n",
    "\n",
    "    slow = head\n",
    "    fast = head.next\n",
    "\n",
    "    while slow != fast:\n",
    "        if fast == None or fast.next == None:\n",
    "            return False\n",
    "        slow = slow.next\n",
    "        fast = fast.next.next\n",
    "    return True"
   ]
  },
  {
   "cell_type": "code",
   "execution_count": 92,
   "id": "16638010-189a-43aa-a264-b859edacd72f",
   "metadata": {},
   "outputs": [],
   "source": [
    "def print_node(node):\n",
    "  while node:\n",
    "    print(node.data, end =\" \")\n",
    "    node = node.next  "
   ]
  },
  {
   "cell_type": "code",
   "execution_count": 93,
   "id": "0fd888d0-3e2d-45fa-b875-479e7e8fe79f",
   "metadata": {},
   "outputs": [
    {
     "name": "stdout",
     "output_type": "stream",
     "text": [
      "52, 32, 1, 96, 73\n"
     ]
    },
    {
     "data": {
      "text/plain": [
       "False"
      ]
     },
     "execution_count": 93,
     "metadata": {},
     "output_type": "execute_result"
    }
   ],
   "source": [
    "lista = LinkedList()\n",
    "for i in range(5):\n",
    "    lista.append_back(random.randint(1, 100))\n",
    "lista.print()\n",
    "hasCycle(lista)"
   ]
  },
  {
   "cell_type": "markdown",
   "id": "134cfd5c-228a-4351-ad2c-d04d94d50a08",
   "metadata": {},
   "source": [
    "### Reverse Linked List"
   ]
  },
  {
   "cell_type": "code",
   "execution_count": 94,
   "id": "507276e9-aeb9-42f4-8ad4-f8910b88b0a7",
   "metadata": {},
   "outputs": [],
   "source": [
    "def reverseLinkedList(head):\n",
    "    prev = None\n",
    "    curr = head\n",
    "    while (curr != None):\n",
    "        next = curr.next     ## На каждой итерации меняем указатели у узлов\n",
    "        curr.next = prev\n",
    "        prev = curr\n",
    "        curr = next  \n",
    "        head = prev\n",
    "    return head"
   ]
  },
  {
   "cell_type": "code",
   "execution_count": 95,
   "id": "25131c2b-641f-4e44-883c-d9f5f1b4f7d6",
   "metadata": {},
   "outputs": [
    {
     "name": "stdout",
     "output_type": "stream",
     "text": [
      "27, 7, 3, 28, 30\n",
      "30 28 3 7 27 "
     ]
    }
   ],
   "source": [
    "lista = LinkedList()\n",
    "for i in range(5):\n",
    "    lista.append_back(random.randint(1, 100))\n",
    "lista.print()\n",
    "node_rev = reverseLinkedList(lista.head)\n",
    "print_node(node_rev)"
   ]
  },
  {
   "cell_type": "markdown",
   "id": "919737de-6dca-4ee4-aab3-5dbe46621f68",
   "metadata": {},
   "source": [
    "### Найти середину списка"
   ]
  },
  {
   "cell_type": "code",
   "execution_count": 96,
   "id": "37ae3eb0-ff53-421c-b14a-7e0da72e1b84",
   "metadata": {},
   "outputs": [],
   "source": [
    "def findMiddle(head):\n",
    "    slow = head\n",
    "    fast = head\n",
    "    while (fast != None) and (fast.next != None):\n",
    "        slow = slow.next\n",
    "        fast = fast.next.next\n",
    "    return slow"
   ]
  },
  {
   "cell_type": "code",
   "execution_count": 97,
   "id": "1a8d8cf2-0965-4382-abe7-29928f26dedc",
   "metadata": {},
   "outputs": [
    {
     "name": "stdout",
     "output_type": "stream",
     "text": [
      "29, 87, 32, 10, 50\n",
      "32\n"
     ]
    }
   ],
   "source": [
    "list = LinkedList()\n",
    "for i in range(5):\n",
    "    list.append_back(random.randint(1, 100))\n",
    "list.print()\n",
    "print(findMiddle(list.head).data)"
   ]
  },
  {
   "cell_type": "markdown",
   "id": "f19c70d5-7a32-4dcd-b078-2bcd331b9331",
   "metadata": {},
   "source": [
    "### Удалить элемент из односвязного списка"
   ]
  },
  {
   "cell_type": "code",
   "execution_count": 98,
   "id": "6b61e20a-bafc-47dd-a9f4-a410b0d619d8",
   "metadata": {},
   "outputs": [],
   "source": [
    "def removeElement(head,val):\n",
    "    dummy = Node(0)\n",
    "    dummy.next = head\n",
    "    prev = dummy\n",
    "    curr = head\n",
    "\n",
    "    while(curr != None):\n",
    "        if (curr.data == val):\n",
    "            prev.next = curr.next\n",
    "        else:\n",
    "            prev = curr\n",
    "        curr = curr.next\n",
    "\n",
    "    return dummy.next"
   ]
  },
  {
   "cell_type": "code",
   "execution_count": 99,
   "id": "3ad0faf9-9246-469f-9150-5b9138e8074d",
   "metadata": {},
   "outputs": [
    {
     "name": "stdout",
     "output_type": "stream",
     "text": [
      "2, 5, 7, 8, 9\n",
      "5 7 8 9 "
     ]
    }
   ],
   "source": [
    "list = LinkedList()\n",
    "list.append_back(2); list.append_back(5); list.append_back(7); list.append_back(8); list.append_back(9)\n",
    "list.print()\n",
    "element = removeElement(list.head,2)\n",
    "print_node(element)"
   ]
  },
  {
   "cell_type": "markdown",
   "id": "cbc36d93-9eab-42ff-97e5-87274b80690f",
   "metadata": {},
   "source": [
    "### ДЗ - Слияние двух отсортированных списков"
   ]
  },
  {
   "cell_type": "code",
   "execution_count": 125,
   "id": "6bcdfcaa-702f-4be0-af50-9119d60e5cd4",
   "metadata": {},
   "outputs": [],
   "source": [
    "def unite(list1,list2):\n",
    "    dummy = Node(None)\n",
    "    curr = dummy\n",
    "        \n",
    "    while(list1.head and list2.head):\n",
    "        if (list1.head.data < list2.head.data):\n",
    "            curr.next = list1.head\n",
    "            list1.head = list1.head.next\n",
    "        else:\n",
    "            curr.next = list2.head\n",
    "            list2.head = list2.head.next\n",
    "        curr = curr.next\n",
    "        \n",
    "    if list1.head == None and list2.head != None:\n",
    "        curr.next = list2.head\n",
    "        \n",
    "    if list2.head == None and list1.head != None:\n",
    "        curr.next = list1.head\n",
    "        \n",
    "    return dummy.next"
   ]
  },
  {
   "cell_type": "code",
   "execution_count": 130,
   "id": "b054a4e6-400f-4b14-890a-a2d341518811",
   "metadata": {},
   "outputs": [
    {
     "name": "stdout",
     "output_type": "stream",
     "text": [
      "3, 8, 9, 25\n",
      "4, 7, 10, 11, 50\n"
     ]
    }
   ],
   "source": [
    "lista1 = LinkedList()\n",
    "lista1.append_back(3); lista1.append_back(8); lista1.append_back(9); lista1.append_back(25) \n",
    "lista1.print()\n",
    "lista2 = LinkedList()\n",
    "lista2.append_back(4); lista2.append_back(7); lista2.append_back(10); lista2.append_back(11);  lista2.append_back(50)\n",
    "lista2.print()"
   ]
  },
  {
   "cell_type": "code",
   "execution_count": 131,
   "id": "b1a25714-780d-40a2-937c-a09aaacd7e89",
   "metadata": {},
   "outputs": [
    {
     "name": "stdout",
     "output_type": "stream",
     "text": [
      "3 4 7 8 9 10 11 25 50 "
     ]
    }
   ],
   "source": [
    "merged = unite(lista1,lista2)\n",
    "print_node(merged)"
   ]
  },
  {
   "cell_type": "code",
   "execution_count": null,
   "id": "94aaa5ce-695e-4f31-83b4-d5922f36724c",
   "metadata": {},
   "outputs": [],
   "source": []
  }
 ],
 "metadata": {
  "kernelspec": {
   "display_name": "Python 3 (ipykernel)",
   "language": "python",
   "name": "python3"
  },
  "language_info": {
   "codemirror_mode": {
    "name": "ipython",
    "version": 3
   },
   "file_extension": ".py",
   "mimetype": "text/x-python",
   "name": "python",
   "nbconvert_exporter": "python",
   "pygments_lexer": "ipython3",
   "version": "3.10.12"
  }
 },
 "nbformat": 4,
 "nbformat_minor": 5
}
